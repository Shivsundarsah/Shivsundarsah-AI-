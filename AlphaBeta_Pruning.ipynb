{
  "nbformat": 4,
  "nbformat_minor": 0,
  "metadata": {
    "colab": {
      "provenance": [],
      "authorship_tag": "ABX9TyMVsYSIYByXMu1IwB/Ok09q",
      "include_colab_link": true
    },
    "kernelspec": {
      "name": "python3",
      "display_name": "Python 3"
    },
    "language_info": {
      "name": "python"
    }
  },
  "cells": [
    {
      "cell_type": "markdown",
      "metadata": {
        "id": "view-in-github",
        "colab_type": "text"
      },
      "source": [
        "<a href=\"https://colab.research.google.com/github/SankethHanasi/AI/blob/main/AlphaBeta_Pruning.ipynb\" target=\"_parent\"><img src=\"https://colab.research.google.com/assets/colab-badge.svg\" alt=\"Open In Colab\"/></a>"
      ]
    },
    {
      "cell_type": "code",
      "execution_count": 2,
      "metadata": {
        "colab": {
          "base_uri": "https://localhost:8080/"
        },
        "id": "irHeD-enG35O",
        "outputId": "ce549265-a451-42d9-8805-b03de1cc2ada"
      },
      "outputs": [
        {
          "output_type": "stream",
          "name": "stdout",
          "text": [
            "The best value for the maximizing player is: 6\n"
          ]
        }
      ],
      "source": [
        "import math\n",
        "def minimax(node, depth, is_maximizing):\n",
        "    \"\"\"\n",
        "    Implement the Minimax algorithm to solve the decision tree.\n",
        "\n",
        "    Parameters:\n",
        "    node (dict): The current node in the decision tree, with the following structure:\n",
        "        {\n",
        "            'value': int,\n",
        "            'left': dict or None,\n",
        "            'right': dict or None\n",
        "        }\n",
        "    depth (int): The current depth in the decision tree.\n",
        "    is_maximizing (bool): Flag to indicate whether the current player is the maximizing player.\n",
        "\n",
        "    Returns:\n",
        "    int: The utility value of the current node.\n",
        "    \"\"\"\n",
        "    # Base case: Leaf node\n",
        "    if node['left'] is None and node['right'] is None:\n",
        "        return node['value']\n",
        "\n",
        "    # Recursive case\n",
        "    if is_maximizing:\n",
        "        best_value = -math.inf\n",
        "        if node['left']:\n",
        "            best_value = max(best_value, minimax(node['left'], depth + 1, False))\n",
        "        if node['right']:\n",
        "            best_value = max(best_value, minimax(node['right'], depth + 1, False))\n",
        "        return best_value\n",
        "    else:\n",
        "        best_value = math.inf\n",
        "        if node['left']:\n",
        "            best_value = min(best_value, minimax(node['left'], depth + 1, True))\n",
        "        if node['right']:\n",
        "            best_value = min(best_value, minimax(node['right'], depth + 1, True))\n",
        "        return best_value\n",
        "\n",
        "# Example usage\n",
        "decision_tree = {\n",
        "    'value': 5,\n",
        "    'left': {\n",
        "        'value': 6,\n",
        "        'left': {\n",
        "            'value': 7,\n",
        "            'left': {\n",
        "                'value': 4,\n",
        "                'left': None,\n",
        "                'right': None\n",
        "            },\n",
        "            'right': {\n",
        "                'value': 5,\n",
        "                'left': None,\n",
        "                'right': None\n",
        "            }\n",
        "        },\n",
        "        'right': {\n",
        "            'value': 3,\n",
        "            'left': {\n",
        "                'value': 6,\n",
        "                'left': None,\n",
        "                'right': None\n",
        "            },\n",
        "            'right': {\n",
        "                'value': 9,\n",
        "                'left': None,\n",
        "                'right': None\n",
        "            }\n",
        "        }\n",
        "    },\n",
        "    'right': {\n",
        "        'value': 8,\n",
        "        'left': {\n",
        "            'value': 7,\n",
        "            'left': {\n",
        "                'value': 6,\n",
        "                'left': None,\n",
        "                'right': None\n",
        "            },\n",
        "            'right': {\n",
        "                'value': 9,\n",
        "                'left': None,\n",
        "                'right': None\n",
        "            }\n",
        "        },\n",
        "        'right': {\n",
        "            'value': 8,\n",
        "            'left': {\n",
        "                'value': 6,\n",
        "                'left': None,\n",
        "                'right': None\n",
        "            },\n",
        "            'right': None\n",
        "        }\n",
        "    }\n",
        "}\n",
        "\n",
        "# Find the best move for the maximizing player\n",
        "best_value = minimax(decision_tree, 0, True)\n",
        "print(f\"The best value for the maximizing player is: {best_value}\")\n"
      ]
    }
  ]
}